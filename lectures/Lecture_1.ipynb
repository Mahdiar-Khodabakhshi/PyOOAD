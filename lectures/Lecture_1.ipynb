# 📘 Understanding Objects in Python – Part 1
**Contributers:** Arman Fahtadadi, Mahdiar Khodabakhshi, Radin Khansari  
**Reference Text:** Program Development in Java by Barbara Liskov and John Guttag and lecture by professor **Boujemaa Guermazi**
***Translated to Python OOP***

> **Note:** This notebook is based on Java lecture material and aligned textbook content, translated fully to Python using object-oriented programming principles.

## 🔑 Object-Oriented Principles in Python

In Python, OOP is built around four core concepts:

- **Encapsulation**: Group data (attributes) and behavior (methods) inside a class.
- **Abstraction**: Hide internal implementation and expose only the necessary interface.
- **Inheritance**: Allow a class to inherit behavior and structure from another.
- **Polymorphism**: Allow objects to be treated as instances of their parent class, with behavior depending on the actual class.

Now let's take a look at an example of the Simple class demonstrating encapsulation and abstraction:

class Circle:
    def __init__(self, radius=1):
        self.__radius = radius  # encapsulated (private attribute)

    def set_radius(self, r):
        self.__radius = r       # public method to modify state

    def get_radius(self):
        return self.__radius    # public method to access state

    def area(self):
        from math import pi
        return pi * self.__radius ** 2  # behavior (abstracts computation)

# Testing encapsulation
c = Circle()
c.set_radius(5)
print("Radius:", c.get_radius())
print("Area:", c.area())
## Software Development Phases

These phases guide how we build object-oriented software:
1. Requirements Analysis
2. Design (modular & object-oriented)
3. Implementation (with classes and objects)
4. Testing (unit tests for each class)
5. Deployment
6. Maintenance

Each phase corresponds to responsibilities you'll learn via classes and modules

Python classes model the design → unit tests verify correctness → code is deployed

##**Python OOP Perspective**

Before implementing classes and logic, we must first **understand the problem**.

### - Functional Requirements
Define what the system **should do**:
- Example: A `Circle` should store a radius and be able to calculate its area.

### - Non-Functional Requirements
Define how the system **should behave**:
- Efficient, readable, maintainable, extensible, testable.

### 📋 Requirements Document in Python Projects
- Define use cases as **docstrings**, **class definitions**, or **unit tests**.
- Use object-oriented modeling: map real-world entities (e.g., `Circle`) to Python classes.

Now we would see example of the `Circle` below:
class Circle:
    """A simple geometric circle with radius and area operations."""

    def __init__(self, radius=1):
        self.__radius = radius  # Encapsulation (private field)

    def set_radius(self, r):
        """Set the circle's radius."""
        self.__radius = r

    def get_radius(self):
        """Return the circle's radius."""
        return self.__radius

    def area(self):
        """Return the area of the circle."""
        from math import pi
        return pi * self.__radius ** 2

circle = Circle()
circle.set_radius(10)
print("Radius:", circle.get_radius())
print("Area:", circle.area())
In the exmaple above 👆 from `Circle` class, `Circle` class should support setting radius and computing area.
## 🧑‍🎨 Software Design 👩‍🎨

Design in OOP means identifying:
- **Classes (types)** needed
- **Attributes** (state/data)
- **Behaviors**(methods)

In Python, this corresponds to:
- `class` definitions
- instance variables (with `self`)
- method signatures

### 🧱 Object-Oriented Design:
Use classes to model the **real world**:
- A `Circle` has radius and area
- An `Employee` has name and salary
- A `BankAccount` supports deposit, withdraw, and balance

Below we could see example of the `Employee`:
class Employee:
    """Employee class with name and salary."""

    def __init__(self, name, salary):
        self.__name = name        # Private field
        self.__salary = salary    # Private field

    def set_salary(self, new_salary):
        self.__salary = new_salary

    def get_salary(self):
        return self.__salary

    def get_name(self):
        return self.__name

# Test object design
e = Employee("Arun", 50000)
print(f"{e.get_name()} earns ${e.get_salary()}")

## 🧪 Testing in Python – OOP Verification

After implementing a class, we must verify it behaves **according to the specification**.

### - Python Testing Guidelines:

- Use `assert` to write inline test cases
- Create multiple tests for each method
- Optionally: define a separate test function/class (unittest or pytest)

This allows for **early bug detection** and promotes **modular, testable design**.

In the example below, I would see `Inline Tests for Counter` example:
class Counter:
    """A simple counter that can increment, reset, and return its value."""

    def __init__(self):
        self.__count = 0  # Private attribute

    def increment(self):
        """Increment the counter by 1."""
        self.__count += 1

    def reset(self):
        """Reset the counter to 0."""
        self.__count = 0

    def get(self):
        """Return the current counter value."""
        return self.__count

# Now, define the test script after the class
c = Counter()

# Test 1: Initial state
assert c.get() == 0, "Test 1 Failed: Counter should start at 0"

# Test 2: After increment
c.increment()
assert c.get() == 1, "Test 2 Failed: After one increment, value should be 1"

# Test 3: Multiple increments
c.increment()
c.increment()
assert c.get() == 3, "Test 3 Failed: Should be 3 after three increments"

# Test 4: Reset
c.reset()
assert c.get() == 0, "Test 4 Failed: Should be 0 after reset"

print("✅ All Counter tests passed!")

## 👨‍💻 Creating and Running a Full Python Program

A complete Python program consists of:
1. **Class Definitions** (Objects & Methods)
2. **Main Execution Block** (`if __name__ == "__main__"`)
3. **Object Creation & Method Calls**

This structure allows for:
- **Modular design** (code reuse)
- **Encapsulation** (hiding internal state)
- **Separation of concerns** (clear main logic)

### 📌 Example: Building & Running a Python Program
Below, we define a **BankAccount** class, then run it in a **main program block**.

class BankAccount:
    """A simple bank account class with deposit, withdraw, and balance check."""

    def __init__(self, owner, balance=0.0):
        self.__owner = owner  # Private attribute
        self.__balance = balance  # Private attribute

    def deposit(self, amount):
        """Deposit a given amount into the account."""
        if amount > 0:
            self.__balance += amount
            return True
        return False

    def withdraw(self, amount):
        """Withdraw a given amount if funds are sufficient."""
        if 0 < amount <= self.__balance:
            self.__balance -= amount
            return True
        return False

    def get_balance(self):
        """Return the current balance."""
        return self.__balance

    def get_owner(self):
        """Return the account owner's name."""
        return self.__owner

# Running the program
if __name__ == "__main__":
    account = BankAccount("Alice", 1000)

    print(f"Owner: {account.get_owner()}")
    print(f"Initial Balance: ${account.get_balance()}")

    account.deposit(500)
    print(f"After Deposit: ${account.get_balance()}")

    if account.withdraw(300):
        print(f"After Withdrawal: ${account.get_balance()}")
    else:
        print("Withdrawal failed: Insufficient funds")

## **Object Behavior & Interaction**

Objects in Python interact via **method calls** and **state changes**.

### 💡 Key Concepts:
- Objects store **state** (instance variables).
- Methods modify state and define **behavior**.
- Multiple objects can exist and interact in a system.

### 📌 Example: Simulating Multiple Bank Accounts
We'll create multiple `BankAccount` objects and simulate interactions. this example avaliable below:

class Bank:
    """A Bank class that manages multiple accounts."""

    def __init__(self):
        self.__accounts = []  # Private list of BankAccount objects

    def add_account(self, account):
        """Add a new BankAccount to the bank."""
        self.__accounts.append(account)

    def show_balances(self):
        """Display all account balances."""
        for account in self.__accounts:
            print(f"{account.get_owner()} has ${account.get_balance()}")

# Object Interaction Example
if __name__ == "__main__":
    bank = Bank()

    acc1 = BankAccount("Alice", 1500)
    acc2 = BankAccount("Bob", 800)

    bank.add_account(acc1)
    bank.add_account(acc2)

    acc1.deposit(200)
    acc2.withdraw(100)

    bank.show_balances()  # Should print updated balances

# **Static vs. Instance Variables in Python**

In an object-oriented program, variables can be classified as:
1. **Instance Variables**: Attributes unique to each instance of a class.
2. **Static (Class) Variables**: Shared attributes that belong to the class itself.

### **Key Differences**
| Feature         | Instance Variable | Static (Class) Variable |
|----------------|------------------|------------------------|
| **Scope**      | Specific to each object | Shared among all instances |
| **Access**     | Accessed via `self.variable` | Accessed via `ClassName.variable` |
| **Memory**     | Stored in the heap (inside object) | Stored once in memory (class level) |
| **Use Case**   | When each object needs its own data | When all objects should share the same data |

Below is an example demonstrating **instance** and **static** variables in Python by utlizing `Employee`example.
class Employee:
    """An Employee class demonstrating instance and static variables."""

    company_name = "TechCorp"  # Static variable (shared across all instances)

    def __init__(self, name, salary):
        self.name = name          # Instance variable (specific to each object)
        self.salary = salary      # Instance variable

    def display(self):
        """Display employee details."""
        print(f"Employee: {self.name}, Salary: ${self.salary}, Company: {Employee.company_name}")

# Creating instances
e1 = Employee("Alice", 70000)
e2 = Employee("Bob", 85000)

# Modifying instance variable (affects only e1)
e1.salary = 75000

# Modifying static variable (affects all instances)
Employee.company_name = "GlobalTech"

# Display results
e1.display()  # Employee: Alice, Salary: $75000, Company: GlobalTech
e2.display()  # Employee: Bob, Salary: $85000, Company: GlobalTech

# **Inheritance and Code Reuse in Python**

Inheritance allows a class (**subclass**) to inherit attributes and behaviors from another class (**superclass**), promoting **code reuse** and reducing redundancy.

### **Key Concepts**
1. **Superclass** – The base class that provides common functionality.
2. **Subclass** – A derived class that inherits from the superclass and may override or extend its behavior.
3. **Method Overriding** – A subclass can redefine methods inherited from the superclass.

### **Example:** Implementing an Employee Hierarchy
We define a general `Employee` class and derive a `Manager` subclass that inherits from it.

class Employee:
    """A base Employee class."""

    def __init__(self, name, salary):
        self.name = name
        self.salary = salary

    def display(self):
        """Display employee details."""
        print(f"Employee: {self.name}, Salary: ${self.salary}")

class Manager(Employee):
    """A Manager subclass inheriting from Employee."""

    def __init__(self, name, salary, department):
        super().__init__(name, salary)  # Call superclass constructor
        self.department = department

    def display(self):
        """Override display method to include department."""
        print(f"Manager: {self.name}, Salary: ${self.salary}, Department: {self.department}")

# Creating objects
e = Employee("Alice", 70000)
m = Manager("Bob", 90000, "Engineering")

# Display information
e.display()  # Employee: Alice, Salary: $70000
m.display()  # Manager: Bob, Salary: $90000, Department: Engineering

# **Polymorphism in Object-Oriented Programming**

Polymorphism allows objects of different classes to be treated as objects of a common superclass. It enables **dynamic method resolution** at runtime.

### **Types of Polymorphism in Python**
1. **Method Overriding** – A subclass provides a different implementation of a method defined in its superclass.
2. **Method Overloading (Achieved via Default Arguments in Python)** – A method can behave differently based on the number or type of parameters.

### **Example:** Employee Polymorphism
The `Manager` and `Intern` subclasses override the `display()` method of `Employee`.

class Employee:
    """A base Employee class demonstrating polymorphism."""

    def __init__(self, name, salary):
        self.name = name
        self.salary = salary

    def display(self):
        """Display employee details (to be overridden)."""
        print(f"Employee: {self.name}, Salary: ${self.salary}")

class Manager(Employee):
    """A Manager subclass overriding the display method."""

    def __init__(self, name, salary, department):
        super().__init__(name, salary)
        self.department = department

    def display(self):
        """Override display method to include department."""
        print(f"Manager: {self.name}, Salary: ${self.salary}, Department: {self.department}")

class Intern(Employee):
    """An Intern subclass overriding the display method."""

    def __init__(self, name, stipend):
        super().__init__(name, stipend)  # Interns have a stipend instead of salary

    def display(self):
        """Override display method to indicate internship role."""
        print(f"Intern: {self.name}, Stipend: ${self.salary}")

# Demonstrating Polymorphism
employees = [
    Employee("Alice", 70000),
    Manager("Bob", 90000, "Engineering"),
    Intern("Charlie", 2000)
]

for emp in employees:
    emp.display()  # Calls the correct overridden method dynamically

# **Abstract Classes and Method Overriding**

An **abstract class** serves as a blueprint for other classes. It **cannot be instantiated** and requires subclasses to implement its abstract methods.

### **Key Features of Abstract Classes in Python**
- Defined using the `abc` module (`ABC` and `@abstractmethod`).
- Enforces that subclasses implement specific methods.
- Useful when creating a generic class that outlines required functionality.

### **Example:** Defining an Abstract `Shape` Class

from abc import ABC, abstractmethod

class Shape(ABC):
    """An abstract base class for different shapes."""

    @abstractmethod
    def area(self):
        """Abstract method to compute area."""
        pass

    @abstractmethod
    def perimeter(self):
        """Abstract method to compute perimeter."""
        pass

class Circle(Shape):
    """A Circle class implementing the Shape interface."""

    def __init__(self, radius):
        self.radius = radius

    def area(self):
        """Calculate area of the circle."""
        from math import pi
        return pi * self.radius ** 2

    def perimeter(self):
        """Calculate perimeter (circumference) of the circle."""
        from math import pi
        return 2 * pi * self.radius

class Rectangle(Shape):
    """A Rectangle class implementing the Shape interface."""

    def __init__(self, width, height):
        self.width = width
        self.height = height

    def area(self):
        """Calculate area of the rectangle."""
        return self.width * self.height

    def perimeter(self):
        """Calculate perimeter of the rectangle."""
        return 2 * (self.width + self.height)

# Demonstrating abstract class usage
shapes = [Circle(5), Rectangle(4, 6)]

for shape in shapes:
    print(f"Shape: {type(shape).__name__}, Area: {shape.area()}, Perimeter: {shape.perimeter()}")

# **Interfaces and Multiple Inheritance in Python**

An **interface** defines a contract for classes to implement, ensuring consistency in class behavior.  
Python does not have built-in interfaces like Java, but we can achieve similar functionality using **abstract base classes (ABC)**.

### **Key Features of Interfaces in Python**
- Defined using `ABC` (Abstract Base Class) and `@abstractmethod`.
- A class can **implement multiple interfaces** (Multiple Inheritance).
- Promotes **code consistency** across different classes.

### **Example:** Implementing an Interface for a Payment System
A `PaymentProcessor` interface will be implemented by different payment methods (`CreditCardProcessor`, `PayPalProcessor`).

from abc import ABC, abstractmethod

class PaymentProcessor(ABC):
    """Interface for processing payments."""

    @abstractmethod
    def process_payment(self, amount):
        """Abstract method to process payment."""
        pass

class CreditCardProcessor(PaymentProcessor):
    """Concrete implementation of a credit card payment processor."""

    def process_payment(self, amount):
        print(f"Processing credit card payment of ${amount}")

class PayPalProcessor(PaymentProcessor):
    """Concrete implementation of a PayPal payment processor."""

    def process_payment(self, amount):
        print(f"Processing PayPal payment of ${amount}")

# Demonstrating interface usage
processors = [CreditCardProcessor(), PayPalProcessor()]

for processor in processors:
    processor.process_payment(100)  # Calls appropriate implementation

# **Object Memory Management in Python**

Memory in Python is managed by:
1. **Stack** – Stores function calls and local variables.
2. **Heap** – Stores objects created dynamically (`new` keyword in Java, implicit in Python).
3. **Garbage Collection** – Automatically removes unreferenced objects.

### **Key Concepts**
- **Reference Counting** – Objects are deleted when no longer referenced.
- **Garbage Collection** – Cleans up unused objects.
- **del Statement** – Explicitly deletes an object.

### **Example:** Memory Allocation and Garbage Collection
Below, we create and delete objects to observe Python's memory behavior.

import gc

class Demo:
    """A simple class to demonstrate memory management."""

    def __init__(self, name):
        self.name = name
        print(f"Object {self.name} created.")

    def __del__(self):
        """Destructor to show when an object is deleted."""
        print(f"Object {self.name} destroyed.")

# Creating objects
obj1 = Demo("A")
obj2 = Demo("B")

# Deleting an object explicitly
del obj1

# Forcing garbage collection (normally not needed)
gc.collect()

# Object B will be automatically deleted when the script ends

# **Exception Handling in Object-Oriented Python**

Exceptions allow us to handle **errors gracefully** without crashing the program.  
Object-oriented exception handling uses:
- **`try` / `except`** – To catch and handle exceptions.
- **`finally`** – To execute cleanup code, regardless of exceptions.
- **Custom Exception Classes** – To define application-specific errors.

### **Key Benefits of Exception Handling**
1. Prevents program crashes.
2. Allows logging and debugging.
3. Ensures resources (files, network connections) are properly closed.

### **Example:** Handling Insufficient Funds in a BankAccount Class
Below, we define an exception class and integrate it into the `BankAccount` class.

class InsufficientFundsError(Exception):
    """Custom exception for handling insufficient balance errors."""
    def __init__(self, message="Insufficient funds in the account."):
        self.message = message
        super().__init__(self.message)

class BankAccount:
    """A simple bank account class with exception handling."""

    def __init__(self, owner, balance=0.0):
        self.owner = owner
        self.balance = balance

    def deposit(self, amount):
        """Deposit money into the account."""
        if amount <= 0:
            raise ValueError("Deposit amount must be positive.")
        self.balance += amount

    def withdraw(self, amount):
        """Withdraw money, raising an exception if balance is insufficient."""
        if amount > self.balance:
            raise InsufficientFundsError(f"Attempted to withdraw ${amount}, but only ${self.balance} available.")
        self.balance -= amount

    def get_balance(self):
        return self.balance

# Demonstrating Exception Handling
try:
    account = BankAccount("Alice", 500)
    account.withdraw(700)  # This should raise an exception
except InsufficientFundsError as e:
    print(f"Error: {e}")
finally:
    print(f"Final balance: ${account.get_balance()}")

# **Summary: Object-Oriented Programming in Python**
This section reviewed core OOP concepts, aligned with *Program Development in Java*.

### **Key Takeaways**
| Concept              | Explanation |
|----------------------|-------------|
| **Encapsulation**   | Hides internal details, exposing only necessary functionality. |
| **Abstraction**     | Simplifies complex logic using well-defined interfaces. |
| **Inheritance**     | Enables code reuse by defining parent-child relationships. |
| **Polymorphism**    | Allows different classes to be treated as a common superclass. |
| **Interfaces**      | Achieved via abstract base classes (`ABC`) in Python. |
| **Exception Handling** | Ensures program stability by handling errors gracefully. |

### **Final Notes**
- Object-oriented programming in Python provides **modularity, scalability, and efficiency**.
- Choosing the right OOP technique depends on the **problem domain** and **performance considerations**.
- **Practice by implementing real-world objects** (e.g., banking systems, payment processing, geometric shapes).

class Vehicle:
    """Base class for all vehicles."""

    def __init__(self, make, model, year):
        self.make = make
        self.model = model
        self.year = year

    def display_info(self):
        """Display vehicle details."""
        return f"{self.year} {self.make} {self.model}"

class Car(Vehicle):
    """Car subclass that inherits from Vehicle."""

    def __init__(self, make, model, year, doors):
        super().__init__(make, model, year)
        self.doors = doors

    def display_info(self):
        """Override display method to include door count."""
        return f"{super().display_info()}, Doors: {self.doors}"

# Testing Inheritance and Polymorphism
v1 = Vehicle("Toyota", "Corolla", 2020)
v2 = Car("Honda", "Civic", 2022, 4)

print(v1.display_info())  # 2020 Toyota Corolla
print(v2.display_info())  # 2022 Honda Civic, Doors: 4

# **Final Thoughts**
This completes the translation of *Understanding Objects in Java – Part 1* into Python OOP.  
- The concepts align with *Program Development in Java* by Liskov & Guttag.
- The Python implementations mirror Java functionality with **idiomatic syntax**.
- The final exercises reinforce class-based **design, inheritance, and encapsulation**.

## **Next Steps**

- For your practice, you could:

  1. Implement a **real-world project** using OOP (e.g., Library System, ATM Simulation).
  2. Experiment with **design patterns** (Singleton, Factory, Observer).
  3. Explore **advanced OOP topics** (Metaclasses, Multiple Inheritance, MRO).

## Circle Class (Encapsulation, Constructor, Client Use)
- Demonstrates object construction from a class.
- Shows client interaction and method access.
- Applies encapsulation using private attributes.
class Circle:
    def __init__(self):
        self.__radius = 1  # Private attribute

    def set_radius(self, r):
        self.__radius = r

    def get_radius(self):
        return self.__radius

    def dump(self):
        print("A Circle.")

# Client code
circle = Circle()
circle.set_radius(5)
print(circle.get_radius())
circle.dump()
## Static Variables in the `Circle` class
- Demonstrates static (class-level) variables and methods.
- Tracks number of Circle instances created.
class Circle:
    count = 0  # Static variable

    def __init__(self):
        self.__radius = 1.0
        Circle.count += 1

    @staticmethod
    def get_count():
        return Circle.count

# Test static behavior
print(Circle.get_count())
c1 = Circle()
print(Circle.get_count())
c2 = Circle()
print(Circle.get_count())
## IntSet Class
- Implements insert, remove, membership, subset, and rep_ok checks.
- Demonstrates collection abstraction and set logic.
class IntSet:
    def __init__(self):
        self._elements = set()

    def insert(self, x):
        self._elements.add(x)

    def remove(self, x):
        self._elements.discard(x)

    def is_in(self, x):
        return x in self._elements

    def size(self):
        return len(self._elements)

    def subset(self, other):
        return self._elements.issubset(other._elements)

    def rep_ok(self):
        return all(isinstance(e, int) for e in self._elements)

# Test IntSet functionality
s1 = IntSet()
s1.insert(5)
s1.insert(7)
print("Contains 5:", s1.is_in(5))
print("Size:", s1.size())
